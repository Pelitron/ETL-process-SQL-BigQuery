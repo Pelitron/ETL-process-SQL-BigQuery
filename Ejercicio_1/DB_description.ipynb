{
 "cells": [
  {
   "cell_type": "markdown",
   "id": "9936525b-e868-4258-8fcb-738ecff46f32",
   "metadata": {},
   "source": [
    "Para montar una base de datos de alumnos en una escuela de programación, es fundamental recopilar información que sea tanto útil para la gestión administrativa como para el seguimiento académico de los estudiantes.\n",
    "\n",
    "## Información Personal\n",
    "- Nombre completo: Para identificar al alumno.\n",
    "- Fecha de nacimiento: Para tener registro de la edad.\n",
    "- Género: Opcional, para estadísticas y personalización.\n",
    "- Dirección: Para envíos físicos o correspondencia.\n",
    "- Teléfono: Para contacto rápido en caso de emergencia.\n",
    "- Correo electrónico: Medio principal de comunicación.\n",
    "- Número de identificación (DNI, Pasaporte, etc.): Para registros oficiales.\n",
    "\n",
    "## Información Académica\n",
    "- Curso/Bootcamp al que está inscrito: Para saber en qué programa está el alumno.\n",
    "- Fecha de inicio del curso: Para controlar el tiempo de estudio.\n",
    "- Fecha de finalización esperada: Para planificación de actividades de cierre.\n",
    "- Estado del curso (activo, inactivo, graduado): Para el seguimiento del progreso.\n",
    "- Notas y Evaluaciones: Para llevar un registro del rendimiento académico.\n",
    "- Proyectos entregados: Para evaluar el avance práctico.\n",
    "- Comentarios de instructores: Observaciones sobre el desempeño del alumno.\n",
    "\n",
    "- Información Administrativa\n",
    "- Método de pago: Para gestionar la parte financiera.\n",
    "- Historial de pagos: Para tener un control de los pagos realizados y pendientes.\n",
    "- Becas o descuentos aplicados: Si aplica.\n",
    "\n",
    "## Información Adicional\n",
    "- Preferencias de horario: Para la organización de clases y tutorías.\n",
    "- Experiencia previa en programación: Para adaptar el contenido a su nivel.\n",
    "- Objetivos académicos y profesionales: Para orientar mejor al alumno.\n",
    "- Participación en eventos: Registro de su involucramiento en actividades adicionales.\n",
    "- Intereses y habilidades: Para ofrecer oportunidades de desarrollo personalizadas.\n",
    "\n",
    "## Consentimientos y Políticas\n",
    "- Consentimiento para el uso de datos: Legalmente necesario para proteger la privacidad.\n",
    "- Aceptación de términos y condiciones: Para cumplir con las normativas de la escuela.\n",
    "\n",
    "## He creado las siguientes tablas:\n",
    "- students: Contiene información personal de los alumnos.\n",
    "- courses: Detalla los cursos o bootcamps disponibles.\n",
    "- enrollments: Registra la inscripción de los alumnos en los cursos.\n",
    "- grades: Almacena las notas y evaluaciones de los alumnos.\n",
    "- projects: Guarda información sobre los proyectos entregados por los alumnos.\n",
    "- instructor_comments: Contiene comentarios de los instructores sobre el desempeño de los alumnos.\n",
    "- payments: Registra los métodos de pago y el historial de pagos de los alumnos.\n",
    "- scholarships: Detalla las becas o descuentos aplicados a los alumnos.\n",
    "- additional_info: Almacena información adicional como preferencias de horario y experiencia previa.\n",
    "Estas tablas están relacionadas para permitir un seguimiento detallado tanto administrativo como académico de los estudiantes."
   ]
  },
  {
   "cell_type": "code",
   "execution_count": null,
   "id": "84abce70-08ab-455f-b7c4-b7c0a72c3f80",
   "metadata": {},
   "outputs": [],
   "source": []
  },
  {
   "cell_type": "code",
   "execution_count": null,
   "id": "93b55816-cc73-4c07-95dd-1cd3d25387cb",
   "metadata": {},
   "outputs": [],
   "source": []
  }
 ],
 "metadata": {
  "kernelspec": {
   "display_name": "Python 3 (ipykernel)",
   "language": "python",
   "name": "python3"
  },
  "language_info": {
   "codemirror_mode": {
    "name": "ipython",
    "version": 3
   },
   "file_extension": ".py",
   "mimetype": "text/x-python",
   "name": "python",
   "nbconvert_exporter": "python",
   "pygments_lexer": "ipython3",
   "version": "3.12.5"
  }
 },
 "nbformat": 4,
 "nbformat_minor": 5
}
