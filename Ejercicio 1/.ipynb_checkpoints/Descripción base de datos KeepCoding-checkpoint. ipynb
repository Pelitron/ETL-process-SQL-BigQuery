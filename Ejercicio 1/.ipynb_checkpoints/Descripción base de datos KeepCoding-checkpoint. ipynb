**Para montar una base de datos de alumnos en una escuela de programación, es fundamental recopilar información que sea tanto útil para la gestión administrativa como para el seguimiento académico de los estudiantes.

## Información Personal
- Nombre completo: Para identificar al alumno.
- Fecha de nacimiento: Para tener registro de la edad.
- Género: Opcional, para estadísticas y personalización.
- Dirección: Para envíos físicos o correspondencia.
- Teléfono: Para contacto rápido en caso de emergencia.
- Correo electrónico: Medio principal de comunicación.
- Número de identificación (DNI, Pasaporte, etc.): Para registros oficiales.

## Información Académica
- Curso/Bootcamp al que está inscrito: Para saber en qué programa está el alumno.
- Fecha de inicio del curso: Para controlar el tiempo de estudio.
- Fecha de finalización esperada: Para planificación de actividades de cierre.
- Estado del curso (activo, inactivo, graduado): Para el seguimiento del progreso.
- Notas y Evaluaciones: Para llevar un registro del rendimiento académico.
- Proyectos entregados: Para evaluar el avance práctico.
- Comentarios de instructores: Observaciones sobre el desempeño del alumno.

- Información Administrativa
- Método de pago: Para gestionar la parte financiera.
- Historial de pagos: Para tener un control de los pagos realizados y pendientes.
- Becas o descuentos aplicados: Si aplica.

## Información Adicional
- Preferencias de horario: Para la organización de clases y tutorías.
- Experiencia previa en programación: Para adaptar el contenido a su nivel.
- Objetivos académicos y profesionales: Para orientar mejor al alumno.
- Participación en eventos: Registro de su involucramiento en actividades adicionales.
- Intereses y habilidades: Para ofrecer oportunidades de desarrollo personalizadas.

## Consentimientos y Políticas
- Consentimiento para el uso de datos: Legalmente necesario para proteger la privacidad.
- Aceptación de términos y condiciones**: Para cumplir con las normativas de la escuela.**

## He creado las siguientes tablas:
	-	students: Contiene información personal de los alumnos.
	-	courses: Detalla los cursos o bootcamps disponibles.
	-	enrollments: Registra la inscripción de los alumnos en los cursos.
	-	grades: Almacena las notas y evaluaciones de los alumnos.
	-	projects: Guarda información sobre los proyectos entregados por los alumnos.
	-	instructor_comments: Contiene comentarios de los instructores sobre el desempeño de los alumnos.
	-	payments: Registra los métodos de pago y el historial de pagos de los alumnos.
	-	scholarships: Detalla las becas o descuentos aplicados a los alumnos.
	-	additional_info: Almacena información adicional como preferencias de horario y experiencia previa.
Estas tablas están relacionadas para permitir un seguimiento detallado tanto administrativo como académico de los estudiantes.